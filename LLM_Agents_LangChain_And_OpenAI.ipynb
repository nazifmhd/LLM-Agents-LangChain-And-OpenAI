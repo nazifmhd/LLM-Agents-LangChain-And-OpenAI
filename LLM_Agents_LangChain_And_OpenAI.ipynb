{
  "nbformat": 4,
  "nbformat_minor": 0,
  "metadata": {
    "colab": {
      "provenance": [],
      "authorship_tag": "ABX9TyPyRbmshU5LCQc5P82wJHdz",
      "include_colab_link": true
    },
    "kernelspec": {
      "name": "python3",
      "display_name": "Python 3"
    },
    "language_info": {
      "name": "python"
    }
  },
  "cells": [
    {
      "cell_type": "markdown",
      "metadata": {
        "id": "view-in-github",
        "colab_type": "text"
      },
      "source": [
        "<a href=\"https://colab.research.google.com/github/Sankalpa0011/LLM-Agents-LangChain-And-OpenAI/blob/main/LLM_Agents_LangChain_And_OpenAI.ipynb\" target=\"_parent\"><img src=\"https://colab.research.google.com/assets/colab-badge.svg\" alt=\"Open In Colab\"/></a>"
      ]
    },
    {
      "cell_type": "markdown",
      "source": [
        "## **Install Libraries**"
      ],
      "metadata": {
        "id": "Cr88NRyCMINf"
      }
    },
    {
      "cell_type": "code",
      "execution_count": null,
      "metadata": {
        "id": "FxLSDHX-Hjij"
      },
      "outputs": [],
      "source": [
        "!pip install langchain -qU\n",
        "!pip install langchain-openai -qU\n",
        "!pip install langchain-community -qU\n",
        "\n",
        "!pip install duckduckgo-search -qU  # for the google search\n",
        "!pip install pyowm -qU              # for weathermap pyowm=python open weather map\n",
        "\n",
        "!pip install langchainhub -qU       # for the deafult prompt"
      ]
    },
    {
      "cell_type": "code",
      "source": [
        "import os\n",
        "from google.colab import userdata"
      ],
      "metadata": {
        "id": "WrWPxulQNLBD"
      },
      "execution_count": null,
      "outputs": []
    },
    {
      "cell_type": "markdown",
      "source": [
        "## **Initialize OpenAI LLM**"
      ],
      "metadata": {
        "id": "3qO0vnRdNaf_"
      }
    },
    {
      "cell_type": "code",
      "source": [
        "from langchain_openai import ChatOpenAI\n",
        "\n",
        "# Set OpenAI API Key\n",
        "os.environ[\"OPENAI_API_KEY\"] = userdata.get('OPENAI_API_KEY')\n",
        "\n",
        "# Initialize the ChatOpenAI model\n",
        "llm = ChatOpenAI(\n",
        "    model = \"gpt-3.5-turbo\",\n",
        "    temperature = 0\n",
        ")"
      ],
      "metadata": {
        "id": "w1UtX51mNeCz"
      },
      "execution_count": null,
      "outputs": []
    },
    {
      "cell_type": "markdown",
      "source": [
        "## **Initialize DuckDuckGo Search Tool**"
      ],
      "metadata": {
        "id": "TSXH4DwiZevo"
      }
    },
    {
      "cell_type": "code",
      "source": [
        "from langchain_community.tools import DuckDuckGoSearchRun\n",
        "\n",
        "# Initialize DuckDuckGo search tool\n",
        "search_tool = DuckDuckGoSearchRun()\n",
        "\n",
        "search_tool"
      ],
      "metadata": {
        "colab": {
          "base_uri": "https://localhost:8080/"
        },
        "id": "fRtLDzqhZdXD",
        "outputId": "ca968f2e-dca0-45d8-8a8a-25d7d8cff746"
      },
      "execution_count": null,
      "outputs": [
        {
          "output_type": "execute_result",
          "data": {
            "text/plain": [
              "DuckDuckGoSearchRun()"
            ]
          },
          "metadata": {},
          "execution_count": 4
        },
        {
          "output_type": "execute_result",
          "data": {
            "text/plain": [
              "DuckDuckGoSearchRun()"
            ]
          },
          "metadata": {},
          "execution_count": 20
        }
      ]
    },
    {
      "cell_type": "markdown",
      "source": [
        "## **Initialize OpenWeatherMap Tool**"
      ],
      "metadata": {
        "id": "xbeIcVP0amI7"
      }
    },
    {
      "cell_type": "code",
      "source": [
        "from langchain_community.utilities import OpenWeatherMapAPIWrapper\n",
        "from langchain.agents import load_tools\n",
        "\n",
        "os.environ[\"OPENWEATHERMAP_API_KEY\"] = userdata.get('OPENWEATHERMAP_API_KEY')\n",
        "\n",
        "# Initialize OpenWeatherMap API wrapper\n",
        "weather_tool = OpenWeatherMapAPIWrapper()\n",
        "\n",
        "weather_tool = load_tools([\"openweathermap-api\"], llm)[0]\n",
        "\n",
        "weather_tool"
      ],
      "metadata": {
        "id": "ZgWoN4-Aaqze",
        "colab": {
          "base_uri": "https://localhost:8080/"
        },
        "outputId": "2f7fc90c-a42c-4317-e7dc-a3aa025dfeec"
      },
      "execution_count": null,
      "outputs": [
        {
          "output_type": "execute_result",
          "data": {
            "text/plain": [
              "OpenWeatherMapQueryRun(api_wrapper=OpenWeatherMapAPIWrapper(owm=<pyowm.owm.OWM - API key=************************d75a255d, subscription type=free, PyOWM version=(3, 3, 0)>, openweathermap_api_key=None))"
            ]
          },
          "metadata": {},
          "execution_count": 5
        },
        {
          "output_type": "execute_result",
          "data": {
            "text/plain": [
              "OpenWeatherMapQueryRun(api_wrapper=OpenWeatherMapAPIWrapper(owm=<pyowm.owm.OWM - API key=************************d75a255d, subscription type=free, PyOWM version=(3, 3, 0)>, openweathermap_api_key=None))"
            ]
          },
          "metadata": {},
          "execution_count": 21
        }
      ]
    },
    {
      "cell_type": "markdown",
      "source": [
        "## **Load Prompt Template From LangChainHub**"
      ],
      "metadata": {
        "id": "dd-cCl6rb-Nr"
      }
    },
    {
      "cell_type": "code",
      "source": [
        "from langchain import hub\n",
        "\n",
        "# Pull the prompt template from LangChainHub\n",
        "prompt = hub.pull(\"hwchase17/react\")    # This is a default one from langchain\n",
        "\n",
        "print(prompt)"
      ],
      "metadata": {
        "colab": {
          "base_uri": "https://localhost:8080/"
        },
        "id": "61sT_H1ob6Si",
        "outputId": "8f01cb0b-dcbd-4a9b-aacb-5f4d00fa12f1"
      },
      "execution_count": null,
      "outputs": [
        {
          "output_type": "stream",
          "name": "stdout",
          "text": [
            "input_variables=['agent_scratchpad', 'input', 'tool_names', 'tools'] metadata={'lc_hub_owner': 'hwchase17', 'lc_hub_repo': 'react', 'lc_hub_commit_hash': 'd15fe3c426f1c4b3f37c9198853e4a86e20c425ca7f4752ec0c9b0e97ca7ea4d'} template='Answer the following questions as best you can. You have access to the following tools:\\n\\n{tools}\\n\\nUse the following format:\\n\\nQuestion: the input question you must answer\\nThought: you should always think about what to do\\nAction: the action to take, should be one of [{tool_names}]\\nAction Input: the input to the action\\nObservation: the result of the action\\n... (this Thought/Action/Action Input/Observation can repeat N times)\\nThought: I now know the final answer\\nFinal Answer: the final answer to the original input question\\n\\nBegin!\\n\\nQuestion: {input}\\nThought:{agent_scratchpad}'\n",
            "input_variables=['agent_scratchpad', 'input', 'tool_names', 'tools'] metadata={'lc_hub_owner': 'hwchase17', 'lc_hub_repo': 'react', 'lc_hub_commit_hash': 'd15fe3c426f1c4b3f37c9198853e4a86e20c425ca7f4752ec0c9b0e97ca7ea4d'} template='Answer the following questions as best you can. You have access to the following tools:\\n\\n{tools}\\n\\nUse the following format:\\n\\nQuestion: the input question you must answer\\nThought: you should always think about what to do\\nAction: the action to take, should be one of [{tool_names}]\\nAction Input: the input to the action\\nObservation: the result of the action\\n... (this Thought/Action/Action Input/Observation can repeat N times)\\nThought: I now know the final answer\\nFinal Answer: the final answer to the original input question\\n\\nBegin!\\n\\nQuestion: {input}\\nThought:{agent_scratchpad}'\n"
          ]
        }
      ]
    },
    {
      "cell_type": "markdown",
      "source": [
        "## **Create Built-In Agent**"
      ],
      "metadata": {
        "id": "v5EuXuxwcfKL"
      }
    },
    {
      "cell_type": "code",
      "source": [
        "from langchain.agents import create_react_agent\n",
        "\n",
        "# List of tools for the agent\n",
        "tools = [search_tool, weather_tool]\n",
        "\n",
        "# Create the agent using the LLM and the prompt template\n",
        "agent = create_react_agent(tools=tools, llm=llm, prompt=prompt)"
      ],
      "metadata": {
        "id": "8eQq1q5LcWsK"
      },
      "execution_count": null,
      "outputs": []
    },
    {
      "cell_type": "code",
      "source": [
        "from langchain.agents import AgentExecutor\n",
        "\n",
        "# Initalize the agent executor with the created agent and tools\n",
        "agent_executor = AgentExecutor(agent=agent, tools=tools, verbose=True, handle_parsing_errors=True)"
      ],
      "metadata": {
        "id": "gib6SuIVdUjx"
      },
      "execution_count": null,
      "outputs": []
    },
    {
      "cell_type": "markdown",
      "source": [
        "## **Invoke The Agent Executor With An Example Question**"
      ],
      "metadata": {
        "id": "aOFNQWMFeqyL"
      }
    },
    {
      "cell_type": "code",
      "source": [
        "response = agent_executor.invoke({\"input\": \"What is the weather in Kandy?\"})\n",
        "\n",
        "print(response[\"output\"])"
      ],
      "metadata": {
        "id": "snOPX502ewCg",
        "colab": {
          "base_uri": "https://localhost:8080/"
        },
        "outputId": "394b1433-4bee-4d39-a163-50bdb327d130"
      },
      "execution_count": null,
      "outputs": [
        {
          "output_type": "stream",
          "name": "stdout",
          "text": [
            "\n",
            "\n",
            "\u001b[1m> Entering new AgentExecutor chain...\u001b[0m\n",
            "\u001b[32;1m\u001b[1;3mI should use the open_weather_map tool to find out the current weather in Kandy.\n",
            "Action: open_weather_map\n",
            "Action Input: Kandy\u001b[0m\u001b[33;1m\u001b[1;3mIn Kandy, the current weather is as follows:\n",
            "Detailed status: overcast clouds\n",
            "Wind speed: 3.37 m/s, direction: 265°\n",
            "Humidity: 52%\n",
            "Temperature: \n",
            "  - Current: 30.35°C\n",
            "  - High: 30.35°C\n",
            "  - Low: 30.35°C\n",
            "  - Feels like: 31.93°C\n",
            "Rain: {}\n",
            "Heat index: None\n",
            "Cloud cover: 100%\u001b[0m\u001b[32;1m\u001b[1;3mI have the current weather information for Kandy.\n",
            "Final Answer: The current weather in Kandy is overcast clouds with a temperature of 30.35°C.\u001b[0m\n",
            "\n",
            "\u001b[1m> Finished chain.\u001b[0m\n",
            "The current weather in Kandy is overcast clouds with a temperature of 30.35°C.\n",
            "\n",
            "\n",
            "\u001b[1m> Entering new AgentExecutor chain...\u001b[0m\n",
            "\u001b[32;1m\u001b[1;3mI should use the open_weather_map tool to find out the current weather in Kandy.\n",
            "Action: open_weather_map\n",
            "Action Input: Kandy\u001b[0m\u001b[33;1m\u001b[1;3mIn Kandy, the current weather is as follows:\n",
            "Detailed status: overcast clouds\n",
            "Wind speed: 3.37 m/s, direction: 265°\n",
            "Humidity: 52%\n",
            "Temperature: \n",
            "  - Current: 30.35°C\n",
            "  - High: 30.35°C\n",
            "  - Low: 30.35°C\n",
            "  - Feels like: 31.93°C\n",
            "Rain: {}\n",
            "Heat index: None\n",
            "Cloud cover: 100%\u001b[0m\u001b[32;1m\u001b[1;3mI have the current weather information for Kandy.\n",
            "Final Answer: The current weather in Kandy is overcast clouds with a temperature of 30.35°C.\u001b[0m\n",
            "\n",
            "\u001b[1m> Finished chain.\u001b[0m\n",
            "The current weather in Kandy is overcast clouds with a temperature of 30.35°C.\n"
          ]
        }
      ]
    },
    {
      "cell_type": "code",
      "source": [
        "response = agent_executor.invoke({\"input\":  \"What is deep learning?\"})\n",
        "\n",
        "print(response[\"output\"])"
      ],
      "metadata": {
        "colab": {
          "base_uri": "https://localhost:8080/"
        },
        "id": "kHaItqdofsjH",
        "outputId": "11c38f39-3a71-4072-bbb9-15215a49d346"
      },
      "execution_count": null,
      "outputs": [
        {
          "output_type": "stream",
          "name": "stdout",
          "text": [
            "\n",
            "\n",
            "\u001b[1m> Entering new AgentExecutor chain...\u001b[0m\n",
            "\u001b[32;1m\u001b[1;3mI should search for a definition of deep learning to provide an accurate answer.\n",
            "Action: duckduckgo_search\n",
            "Action Input: \"definition of deep learning\"\u001b[0m\u001b[36;1m\u001b[1;3mDeep learning is a subset of machine learning and type of artificial intelligence that uses artificial neural networks to mimic the structure and problem-solving capabilities of the human brain. Deep learning uses multi-layered structures of algorithms called neural networks to draw similar conclusions as humans would. Deep learning is a subset of machine learning that mimics the brain's neural networks to learn from large volumes of data. Learn about its applications, skills, and careers with this overview from Coursera. What is deep learning? Deep learning is a subset of machine learning that falls within the artificial intelligence (AI) field. This technology works by teaching a computer model to learn by ... Deep learning is a method of training neural networks to perform tasks with minimal human intervention. Deep learning algorithms are modeled on the structure and function of the biological brain, using interconnected layers of artificial neurons to process and learn from data. About QuantumBlack, AI by McKinsey. Deep learning is a more advanced version of machine learning that is particularly adept at processing a wider range of data resources (text, as well as unstructured data including images), requires even less human intervention, and can often produce more accurate results than traditional machine learning.\u001b[0m\u001b[32;1m\u001b[1;3mI now have a good understanding of what deep learning is.\n",
            "Final Answer: Deep learning is a subset of machine learning and a type of artificial intelligence that uses artificial neural networks to mimic the structure and problem-solving capabilities of the human brain.\u001b[0m\n",
            "\n",
            "\u001b[1m> Finished chain.\u001b[0m\n",
            "Deep learning is a subset of machine learning and a type of artificial intelligence that uses artificial neural networks to mimic the structure and problem-solving capabilities of the human brain.\n",
            "\n",
            "\n",
            "\u001b[1m> Entering new AgentExecutor chain...\u001b[0m\n",
            "\u001b[32;1m\u001b[1;3mI should search for a definition of deep learning to provide an accurate answer.\n",
            "Action: duckduckgo_search\n",
            "Action Input: \"definition of deep learning\"\u001b[0m\u001b[36;1m\u001b[1;3mDeep learning is a subset of machine learning and type of artificial intelligence that uses artificial neural networks to mimic the structure and problem-solving capabilities of the human brain. Deep learning uses multi-layered structures of algorithms called neural networks to draw similar conclusions as humans would. Deep learning is a subset of machine learning that mimics the brain's neural networks to learn from large volumes of data. Learn about its applications, skills, and careers with this overview from Coursera. About QuantumBlack, AI by McKinsey. Deep learning is a more advanced version of machine learning that is particularly adept at processing a wider range of data resources (text, as well as unstructured data including images), requires even less human intervention, and can often produce more accurate results than traditional machine learning. Deep learning is a method of training neural networks to perform tasks with minimal human intervention. Deep learning algorithms are modeled on the structure and function of the biological brain, using interconnected layers of artificial neurons to process and learn from data. What is deep learning? Deep learning is a subset of machine learning that falls within the artificial intelligence (AI) field. This technology works by teaching a computer model to learn by ...\u001b[0m\u001b[32;1m\u001b[1;3mI now have a good understanding of what deep learning is.\n",
            "Final Answer: Deep learning is a subset of machine learning and a type of artificial intelligence that uses artificial neural networks to mimic the structure and problem-solving capabilities of the human brain.\u001b[0m\n",
            "\n",
            "\u001b[1m> Finished chain.\u001b[0m\n",
            "Deep learning is a subset of machine learning and a type of artificial intelligence that uses artificial neural networks to mimic the structure and problem-solving capabilities of the human brain.\n"
          ]
        }
      ]
    },
    {
      "cell_type": "code",
      "source": [
        "response = agent_executor.invoke({\"input\":  \"How many words count within introduction to deep learning?\"})\n",
        "\n",
        "print(response[\"output\"])"
      ],
      "metadata": {
        "colab": {
          "base_uri": "https://localhost:8080/"
        },
        "id": "4mVbVOqkgAMm",
        "outputId": "b017e8ba-915d-44ae-b0d1-75429ff72695"
      },
      "execution_count": null,
      "outputs": [
        {
          "output_type": "stream",
          "name": "stdout",
          "text": [
            "\n",
            "\n",
            "\u001b[1m> Entering new AgentExecutor chain...\u001b[0m\n",
            "\u001b[32;1m\u001b[1;3mI should search for the introduction to deep learning to find out the word count.\n",
            "Action: duckduckgo_search\n",
            "Action Input: introduction to deep learning word count\u001b[0m\u001b[36;1m\u001b[1;3mWord embeddings play a pivotal role in training deep learning models for various NLP tasks. Each technique — BOW, TF-IDF, Word2Vec, GloVe, and BERT — serves specific purposes. Introduction to Deep Learning. Introduction to Deep Learning; Difference Between Artificial Intelligence vs Machine Learning vs Deep Learning; ... The methods such as Bag of Words (BOW), CountVectorizer and TFIDF rely on the word count in a sentence but do not save any syntactical or semantic information. In these algorithms, the size of the ... Word Embeddings. Word embeddings are mathematical representations of words or phrases as vectors of real numbers in a high-dimensional space, where the position of each word encodes its semantic meaning and relationships. On this page. At its core, word embedding is a technique in the realm of natural language processing (NLP). The CBOW architecture comprises a deep learning classification model in which we take in context words as input, X, and try to predict our target word, Y. For example, if we consider the sentence - \"Word2Vec has a deep learning model working in the backend.\", there can be pairs of context words and target (center) words. Cross-Entropy Loss and Its Applications in Deep Learning. Step 4: Training. Finally, we train the model. In a nutshell, word embeddings can be defined as a dense representation of words in the form of vectors in low-dimensional space. These embeddings are accompanied by learnable vectors, or parameterized functions. They update themselves ...\u001b[0m\u001b[32;1m\u001b[1;3mI need to find the specific word count information within the search results.\n",
            "Action: duckduckgo_search\n",
            "Action Input: word count in introduction to deep learning\u001b[0m\u001b[36;1m\u001b[1;3mIntroduction to Deep Learning. Introduction to Deep Learning; Difference Between Artificial Intelligence vs Machine Learning vs Deep Learning; ... The methods such as Bag of Words (BOW), CountVectorizer and TFIDF rely on the word count in a sentence but do not save any syntactical or semantic information. In these algorithms, the size of the ... Here's a step-by-step guide to implementing BoW and performing frequency counts using Scikit-learn. Python. # Step 1: Preparing the Corpus from sklearn.feature_extraction.text import CountVectorizer import numpy as np # Step 2: Preparing the Corpus corpus = [ \"The cat sat on the mat.\", \"The dog sat on the log.\" Deep learning (DL) is just one of many techniques collectively known as machine learning. Machine learning (ML) refers to techniques where a computer can \"learn\" patterns in data, usually by being shown numerous examples to train it. People often talk about machine learning being a form of artificial intelligence (AI). The CBOW architecture comprises a deep learning classification model in which we take in context words as input, X, and try to predict our target word, Y. For example, if we consider the sentence - \"Word2Vec has a deep learning model working in the backend.\", there can be pairs of context words and target (center) words. The variable seed_text contains the initial input text from which we want to generate the next word predictions. The variable next_words indicates the number of words to be predicted. A loop is then executed next_words times. Inside the loop, the seed_text is tokenized using the tokenizer's texts_to_sequences method.\u001b[0m\u001b[32;1m\u001b[1;3mI should look for a specific number related to the word count in the search results.\n",
            "Action: duckduckgo_search\n",
            "Action Input: specific word count in introduction to deep learning\u001b[0m\u001b[36;1m\u001b[1;3mIntroduction to Deep Learning. ... The methods such as Bag of Words (BOW), CountVectorizer and TFIDF rely on the word count in a sentence but do not save any syntactical or semantic information. In these algorithms, the size of the vector is the number of elements in the vocabulary. ... # Example usage: Get embedding for a specific word. word ... Deep learning (DL) is just one of many techniques collectively known as machine learning. Machine learning (ML) refers to techniques where a computer can \"learn\" patterns in data, usually by being shown numerous examples to train it. People often talk about machine learning being a form of artificial intelligence (AI). Optimize the network: scale the averaged gradient by learning rate and subtract it from the current weights to obtain new weights. Repeat from step 1. Going through all the inputs in the training set is called an epoch and we'll need many epochs before the network converges to a local minimum of a cost function. Sixty eight python notebook exercises with missing code to fill in based on the text. Notebook 1.1 - Background mathematics: ipynb/colab. Notebook 2.1 - Supervised learning: ipynb/colab. Notebook 3.1 - Shallow networks I: ipynb/colab. Notebook 3.2 - Shallow networks II: ipynb/colab. Word embedding represents words in a continuous vector space, where words with similar meanings are closer to each other. Unlike BOW, word embeddings capture semantic relationships between words ...\u001b[0m\u001b[32;1m\u001b[1;3mI should summarize the information I found to determine the word count in the introduction to deep learning.\n",
            "Action: duckduckgo_search\n",
            "Action Input: summary of introduction to deep learning\u001b[0m\u001b[36;1m\u001b[1;3mDeep learning (DL) is just one of many techniques collectively known as machine learning. Machine learning (ML) refers to techniques where a computer can \"learn\" patterns in data, usually by being shown numerous examples to train it. People often talk about machine learning being a form of artificial intelligence (AI). Deep learning is a subset of machine learning and type of artificial intelligence that uses artificial neural networks to mimic the structure and problem-solving capabilities of the human brain. Deep learning uses multi-layered structures of algorithms called neural networks to draw similar conclusions as humans would. Sixty eight python notebook exercises with missing code to fill in based on the text. Notebook 1.1 - Background mathematics: ipynb/colab. Notebook 2.1 - Supervised learning: ipynb/colab. Notebook 3.1 - Shallow networks I: ipynb/colab. Notebook 3.2 - Shallow networks II: ipynb/colab. The Best Introduction to Deep Learning - A Step by Step Guide Lesson - 2. Top Deep Learning Applications Used Across Industries Lesson - 3. What is Neural Network: Overview, Applications, and Advantages Lesson - 4. Neural Networks Tutorial Lesson - 5. Top 8 Deep Learning Frameworks You Should Know in 2024 Lesson - 6 Discover \"Introduction to Deep Learning,\" your gateway to mastering AI essentials. From foundational algorithms to practical applications, explore neural networks, CNNs for image processing ...\u001b[0m\u001b[32;1m\u001b[1;3mI have gathered enough information to determine the word count in the introduction to deep learning.\n",
            "Final Answer: The word count in the introduction to deep learning is not explicitly mentioned in the search results.\u001b[0m\n",
            "\n",
            "\u001b[1m> Finished chain.\u001b[0m\n",
            "The word count in the introduction to deep learning is not explicitly mentioned in the search results.\n",
            "\n",
            "\n",
            "\u001b[1m> Entering new AgentExecutor chain...\u001b[0m\n",
            "\u001b[32;1m\u001b[1;3mI should search for the introduction to deep learning to find out the word count.\n",
            "Action: duckduckgo_search\n",
            "Action Input: introduction to deep learning word count\u001b[0m\u001b[36;1m\u001b[1;3mIntroduction to Deep Learning. Introduction to Deep Learning; Difference Between Artificial Intelligence vs Machine Learning vs Deep Learning; ... The methods such as Bag of Words (BOW), CountVectorizer and TFIDF rely on the word count in a sentence but do not save any syntactical or semantic information. In these algorithms, the size of the ... The CBOW architecture comprises a deep learning classification model in which we take in context words as input, X, and try to predict our target word, Y. For example, if we consider the sentence - \"Word2Vec has a deep learning model working in the backend.\", there can be pairs of context words and target (center) words. Cross-Entropy Loss and Its Applications in Deep Learning. Step 4: Training. Finally, we train the model. In a nutshell, word embeddings can be defined as a dense representation of words in the form of vectors in low-dimensional space. These embeddings are accompanied by learnable vectors, or parameterized functions. They update themselves ... Background and Concepts High-dimensional Spaces and Vector Representations of Words Brief History of Word Embedding Methods: from One-hot Encoding to Sophisticated Embeddings Dense Representations Word2Vec, GloVe, and Beyond Transformers and Contextualized Embeddings Early Methods of Word Embeddings Count-based Methods Term Frequency-Inverse Document Frequency (TF-IDF) Co-occurrence Matrices ... Word embeddings play a pivotal role in training deep learning models for various NLP tasks. Each technique — BOW, TF-IDF, Word2Vec, GloVe, and BERT — serves specific purposes.\u001b[0m\u001b[32;1m\u001b[1;3mI need to find the specific word count within the introduction to deep learning.\n",
            "Action: duckduckgo_search\n",
            "Action Input: introduction to deep learning word count\u001b[0m\u001b[36;1m\u001b[1;3mIntroduction to Deep Learning. Introduction to Deep Learning; Difference Between Artificial Intelligence vs Machine Learning vs Deep Learning; ... The methods such as Bag of Words (BOW), CountVectorizer and TFIDF rely on the word count in a sentence but do not save any syntactical or semantic information. In these algorithms, the size of the ... Word embeddings play a pivotal role in training deep learning models for various NLP tasks. Each technique — BOW, TF-IDF, Word2Vec, GloVe, and BERT — serves specific purposes. The CBOW architecture comprises a deep learning classification model in which we take in context words as input, X, and try to predict our target word, Y. For example, if we consider the sentence - \"Word2Vec has a deep learning model working in the backend.\", there can be pairs of context words and target (center) words. Cross-Entropy Loss and Its Applications in Deep Learning. Step 4: Training. Finally, we train the model. In a nutshell, word embeddings can be defined as a dense representation of words in the form of vectors in low-dimensional space. These embeddings are accompanied by learnable vectors, or parameterized functions. They update themselves ... The statistical method to perform the word count to create the sentence vector was developed by Yao et al. . The sentence vector is input to the hidden layer to compute a cluster of similar score words. ... With the introduction of deep learning methods, the field of text summarization has made significant strides forward. However, a vast ...\u001b[0m\u001b[32;1m\u001b[1;3mI should look for a specific number mentioned in the text.\n",
            "Action: duckduckgo_search\n",
            "Action Input: word count in introduction to deep learning\u001b[0m\u001b[36;1m\u001b[1;3mIntroduction to Deep Learning. Introduction to Deep Learning; Difference Between Artificial Intelligence vs Machine Learning vs Deep Learning; ... The methods such as Bag of Words (BOW), CountVectorizer and TFIDF rely on the word count in a sentence but do not save any syntactical or semantic information. In these algorithms, the size of the ... Deep learning (DL) is just one of many techniques collectively known as machine learning. Machine learning (ML) refers to techniques where a computer can \"learn\" patterns in data, usually by being shown numerous examples to train it. People often talk about machine learning being a form of artificial intelligence (AI). Here's a step-by-step guide to implementing BoW and performing frequency counts using Scikit-learn. Python. # Step 1: Preparing the Corpus from sklearn.feature_extraction.text import CountVectorizer import numpy as np # Step 2: Preparing the Corpus corpus = [ \"The cat sat on the mat.\", \"The dog sat on the log.\" The CBOW architecture comprises a deep learning classification model in which we take in context words as input, X, and try to predict our target word, Y. For example, if we consider the sentence - \"Word2Vec has a deep learning model working in the backend.\", there can be pairs of context words and target (center) words. The variable seed_text contains the initial input text from which we want to generate the next word predictions. The variable next_words indicates the number of words to be predicted. A loop is then executed next_words times. Inside the loop, the seed_text is tokenized using the tokenizer's texts_to_sequences method.\u001b[0m\u001b[32;1m\u001b[1;3mI should summarize the information to determine the word count.\n",
            "Final Answer: The word count within the introduction to deep learning is not explicitly mentioned in the text.\u001b[0m\n",
            "\n",
            "\u001b[1m> Finished chain.\u001b[0m\n",
            "The word count within the introduction to deep learning is not explicitly mentioned in the text.\n"
          ]
        }
      ]
    },
    {
      "cell_type": "markdown",
      "source": [
        "## **Define Custom Tool**"
      ],
      "metadata": {
        "id": "GtyLwPj7glwT"
      }
    },
    {
      "cell_type": "code",
      "source": [
        "from langchain.agents import tool\n",
        "\n",
        "@tool                                             # decorator\n",
        "def word_count(text: str) -> int:\n",
        "  \"\"\"Returns the word count\"\"\"\n",
        "  return len(text.split())"
      ],
      "metadata": {
        "id": "adYuj_5JgorQ"
      },
      "execution_count": null,
      "outputs": []
    },
    {
      "cell_type": "code",
      "source": [
        "# Before add the new custom tool\n",
        "tools"
      ],
      "metadata": {
        "colab": {
          "base_uri": "https://localhost:8080/"
        },
        "id": "4cg5piCohq0M",
        "outputId": "af9e7c9f-61e9-4f3c-d30e-1092a65c00b3"
      },
      "execution_count": null,
      "outputs": [
        {
          "output_type": "execute_result",
          "data": {
            "text/plain": [
              "[DuckDuckGoSearchRun(),\n",
              " OpenWeatherMapQueryRun(api_wrapper=OpenWeatherMapAPIWrapper(owm=<pyowm.owm.OWM - API key=************************d75a255d, subscription type=free, PyOWM version=(3, 3, 0)>, openweathermap_api_key=None))]"
            ]
          },
          "metadata": {},
          "execution_count": 13
        },
        {
          "output_type": "execute_result",
          "data": {
            "text/plain": [
              "[DuckDuckGoSearchRun(),\n",
              " OpenWeatherMapQueryRun(api_wrapper=OpenWeatherMapAPIWrapper(owm=<pyowm.owm.OWM - API key=************************d75a255d, subscription type=free, PyOWM version=(3, 3, 0)>, openweathermap_api_key=None))]"
            ]
          },
          "metadata": {},
          "execution_count": 29
        }
      ]
    },
    {
      "cell_type": "code",
      "source": [
        "# Add the custom tool to the list of tools\n",
        "tools.append(word_count)\n",
        "\n",
        "# After add custom tool\n",
        "tools"
      ],
      "metadata": {
        "colab": {
          "base_uri": "https://localhost:8080/"
        },
        "id": "ETllk5SUhBYU",
        "outputId": "4b57e170-763d-4603-a00e-9e6250a9fc51"
      },
      "execution_count": null,
      "outputs": [
        {
          "output_type": "execute_result",
          "data": {
            "text/plain": [
              "[DuckDuckGoSearchRun(),\n",
              " OpenWeatherMapQueryRun(api_wrapper=OpenWeatherMapAPIWrapper(owm=<pyowm.owm.OWM - API key=************************d75a255d, subscription type=free, PyOWM version=(3, 3, 0)>, openweathermap_api_key=None)),\n",
              " StructuredTool(name='word_count', description='Returns the word count', args_schema=<class 'pydantic.v1.main.word_countSchema'>, func=<function word_count at 0x7d728a077400>)]"
            ]
          },
          "metadata": {},
          "execution_count": 14
        },
        {
          "output_type": "execute_result",
          "data": {
            "text/plain": [
              "[DuckDuckGoSearchRun(),\n",
              " OpenWeatherMapQueryRun(api_wrapper=OpenWeatherMapAPIWrapper(owm=<pyowm.owm.OWM - API key=************************d75a255d, subscription type=free, PyOWM version=(3, 3, 0)>, openweathermap_api_key=None)),\n",
              " StructuredTool(name='word_count', description='Returns the word count', args_schema=<class 'pydantic.v1.main.word_countSchema'>, func=<function word_count at 0x7d7288f689d0>)]"
            ]
          },
          "metadata": {},
          "execution_count": 30
        }
      ]
    },
    {
      "cell_type": "code",
      "source": [
        "# Create a new agent with the DuckDuckGo search tool, OpenWeatherMap tool and custom word count tool\n",
        "aget = create_react_agent(tools=tools, llm=llm, prompt=prompt)\n",
        "\n",
        "# Initialize the agent executor with the new agent and tools\n",
        "agent_executor = AgentExecutor(agent=agent, tools=tools, verbose=True, handle_parsing_errors=True)"
      ],
      "metadata": {
        "id": "pVnCtyjThYdl"
      },
      "execution_count": null,
      "outputs": []
    },
    {
      "cell_type": "markdown",
      "source": [
        "## **Invoke The Custom Agent Executor With example Questions**"
      ],
      "metadata": {
        "id": "n7leFXfhiuvu"
      }
    },
    {
      "cell_type": "code",
      "source": [
        "response = agent_executor.invoke({\"input\": \"What is deep learning\"})\n",
        "\n",
        "print(response[\"output\"])"
      ],
      "metadata": {
        "colab": {
          "base_uri": "https://localhost:8080/"
        },
        "id": "CHtxQYgVirO5",
        "outputId": "6c8e1eae-65f1-4fea-b948-ccd97457c4c9"
      },
      "execution_count": null,
      "outputs": [
        {
          "output_type": "stream",
          "name": "stdout",
          "text": [
            "\n",
            "\n",
            "\u001b[1m> Entering new AgentExecutor chain...\u001b[0m\n",
            "\u001b[32;1m\u001b[1;3mI should search for the definition of deep learning to provide an accurate answer.\n",
            "Action: duckduckgo_search\n",
            "Action Input: \"deep learning definition\"\u001b[0m\u001b[36;1m\u001b[1;3mDeep learning is a subset of machine learning and type of artificial intelligence that uses artificial neural networks to mimic the structure and problem-solving capabilities of the human brain. Deep learning uses multi-layered structures of algorithms called neural networks to draw similar conclusions as humans would. Deep learning is a subset of machine learning that mimics the brain's neural networks to learn from large volumes of data. Learn about its applications, skills, and careers with this overview from Coursera. Deep learning is a more advanced version of machine learning that is particularly adept at processing a wider range of data resources (text, as well as unstructured data including images), requires even less human intervention, and can often produce more accurate results than traditional machine learning. What is deep learning? Deep learning is a subset of machine learning that falls within the artificial intelligence (AI) field. This technology works by teaching a computer model to learn by ... Deep learning is a method of training neural networks to perform tasks with minimal human intervention. Deep learning algorithms are modeled on the structure and function of the biological brain, using interconnected layers of artificial neurons to process and learn from data.\u001b[0m\u001b[32;1m\u001b[1;3mI now have a good understanding of what deep learning is.\n",
            "Final Answer: Deep learning is a subset of machine learning and a type of artificial intelligence that uses artificial neural networks to mimic the structure and problem-solving capabilities of the human brain.\u001b[0m\n",
            "\n",
            "\u001b[1m> Finished chain.\u001b[0m\n",
            "Deep learning is a subset of machine learning and a type of artificial intelligence that uses artificial neural networks to mimic the structure and problem-solving capabilities of the human brain.\n"
          ]
        }
      ]
    },
    {
      "cell_type": "code",
      "source": [
        "response = agent_executor.invoke({\"input\": \"How many words count within introduction to deep learning?\"})\n",
        "\n",
        "print(response[\"output\"])"
      ],
      "metadata": {
        "colab": {
          "base_uri": "https://localhost:8080/"
        },
        "id": "ZqIlkwu7i2Bm",
        "outputId": "69363e69-e391-4cb6-a28e-f8a54e8208a4"
      },
      "execution_count": null,
      "outputs": [
        {
          "output_type": "stream",
          "name": "stdout",
          "text": [
            "\n",
            "\n",
            "\u001b[1m> Entering new AgentExecutor chain...\u001b[0m\n",
            "\u001b[32;1m\u001b[1;3mI should search for the introduction to deep learning to find out the word count.\n",
            "Action: duckduckgo_search\n",
            "Action Input: introduction to deep learning word count\u001b[0m\u001b[36;1m\u001b[1;3mIntroduction to Deep Learning. Introduction to Deep Learning; Difference Between Artificial Intelligence vs Machine Learning vs Deep Learning; ... The methods such as Bag of Words (BOW), CountVectorizer and TFIDF rely on the word count in a sentence but do not save any syntactical or semantic information. In these algorithms, the size of the ... The CBOW architecture comprises a deep learning classification model in which we take in context words as input, X, and try to predict our target word, Y. For example, if we consider the sentence - \"Word2Vec has a deep learning model working in the backend.\", there can be pairs of context words and target (center) words. Cross-Entropy Loss and Its Applications in Deep Learning. Step 4: Training. Finally, we train the model. In a nutshell, word embeddings can be defined as a dense representation of words in the form of vectors in low-dimensional space. These embeddings are accompanied by learnable vectors, or parameterized functions. They update themselves ... Word embeddings play a pivotal role in training deep learning models for various NLP tasks. Each technique — BOW, TF-IDF, Word2Vec, GloVe, and BERT — serves specific purposes. Background and Concepts High-dimensional Spaces and Vector Representations of Words Brief History of Word Embedding Methods: from One-hot Encoding to Sophisticated Embeddings Dense Representations Word2Vec, GloVe, and Beyond Transformers and Contextualized Embeddings Early Methods of Word Embeddings Count-based Methods Term Frequency-Inverse Document Frequency (TF-IDF) Co-occurrence Matrices ...\u001b[0m\u001b[32;1m\u001b[1;3mI need to find the word count in the introduction to deep learning.\n",
            "Action: duckduckgo_search\n",
            "Action Input: introduction to deep learning word count\u001b[0m\u001b[36;1m\u001b[1;3mIntroduction to Deep Learning. Introduction to Deep Learning; Difference Between Artificial Intelligence vs Machine Learning vs Deep Learning; ... The methods such as Bag of Words (BOW), CountVectorizer and TFIDF rely on the word count in a sentence but do not save any syntactical or semantic information. In these algorithms, the size of the ... 1.6 - Overview of word2Vec. word2vec is a family of algorithms that produce distributed word embeddings for use in NLP tasks. These vectors are far denser than those created using the one-hot ... Word embeddings play a pivotal role in training deep learning models for various NLP tasks. Each technique — BOW, TF-IDF, Word2Vec, GloVe, and BERT — serves specific purposes. The CBOW architecture comprises a deep learning classification model in which we take in context words as input, X, and try to predict our target word, Y. For example, if we consider the sentence - \"Word2Vec has a deep learning model working in the backend.\", there can be pairs of context words and target (center) words. Apr 04, 2024. 1. Share. Introduction: Word2Vec is a popular technique in natural language processing (NLP) that transforms words into numerical vectors, allowing machines to understand the contextual meaning of words. In this article, we'll explore what Word2Vec is, how it works, and its applications in various fields.\u001b[0m\u001b[32;1m\u001b[1;3mI need to find the specific word count in the introduction to deep learning.\n",
            "Action: duckduckgo_search\n",
            "Action Input: introduction to deep learning word count specific\u001b[0m\u001b[36;1m\u001b[1;3mIntroduction to Deep Learning. ... The methods such as Bag of Words (BOW), CountVectorizer and TFIDF rely on the word count in a sentence but do not save any syntactical or semantic information. In these algorithms, the size of the vector is the number of elements in the vocabulary. ... # Example usage: Get embedding for a specific word. word ... Count Vectorizer: Count Vectorizer maps each unique word in the entire text corpus to a unique vector index. The vector values for each document are the number of times each specific word appears ... 1.6 - Overview of word2Vec. word2vec is a family of algorithms that produce distributed word embeddings for use in NLP tasks. These vectors are far denser than those created using the one-hot ... Word embeddings play a pivotal role in training deep learning models for various NLP tasks. Each technique — BOW, TF-IDF, Word2Vec, GloVe, and BERT — serves specific purposes. Vietnamese text summary does not employ any language-specific techniques. An opposition base learning ... The statistical method to perform the word count to create the sentence vector was developed by Yao et al. ... With the introduction of deep learning methods, the field of text summarization has made significant strides forward. However, a ...\u001b[0m\u001b[32;1m\u001b[1;3mI should count the number of words in the introduction to deep learning.\n",
            "Action: duckduckgo_search\n",
            "Action Input: introduction to deep learning word count\u001b[0m\u001b[36;1m\u001b[1;3mIntroduction to Deep Learning. Introduction to Deep Learning; Difference Between Artificial Intelligence vs Machine Learning vs Deep Learning; ... The methods such as Bag of Words (BOW), CountVectorizer and TFIDF rely on the word count in a sentence but do not save any syntactical or semantic information. In these algorithms, the size of the ... 1.6 - Overview of word2Vec. word2vec is a family of algorithms that produce distributed word embeddings for use in NLP tasks. These vectors are far denser than those created using the one-hot ... The CBOW architecture comprises a deep learning classification model in which we take in context words as input, X, and try to predict our target word, Y. For example, if we consider the sentence - \"Word2Vec has a deep learning model working in the backend.\", there can be pairs of context words and target (center) words. Word embeddings play a pivotal role in training deep learning models for various NLP tasks. Each technique — BOW, TF-IDF, Word2Vec, GloVe, and BERT — serves specific purposes. Fig. Count Vectorizer Example. Image by Author. TFIDF Vectorizer: To overcome the drawback of the Count Vectorizer, we can use the TFIDF vectorizer.This algorithm also maps each unique word in the ...\u001b[0m\u001b[32;1m\u001b[1;3mI now know the final answer\n",
            "Final Answer: The word count within the introduction to deep learning is not specified in the search results.\u001b[0m\n",
            "\n",
            "\u001b[1m> Finished chain.\u001b[0m\n",
            "The word count within the introduction to deep learning is not specified in the search results.\n"
          ]
        }
      ]
    },
    {
      "cell_type": "code",
      "source": [
        "response = agent_executor.invoke({\"input\": \"What is the temperature of the city where 'lotus tower' is located?\"})\n",
        "\n",
        "print(response[\"output\"])"
      ],
      "metadata": {
        "colab": {
          "base_uri": "https://localhost:8080/"
        },
        "id": "3eSeqbaUj059",
        "outputId": "a3110c9e-e669-4189-a3c1-72f86050cacc"
      },
      "execution_count": null,
      "outputs": [
        {
          "output_type": "stream",
          "name": "stdout",
          "text": [
            "\n",
            "\n",
            "\u001b[1m> Entering new AgentExecutor chain...\u001b[0m\n",
            "\u001b[32;1m\u001b[1;3mI should use the open_weather_map tool to find the temperature of the city where 'lotus tower' is located.\n",
            "Action: open_weather_map\n",
            "Action Input: Colombo, Sri Lanka\u001b[0m\u001b[33;1m\u001b[1;3mIn Colombo, Sri Lanka, the current weather is as follows:\n",
            "Detailed status: overcast clouds\n",
            "Wind speed: 5.23 m/s, direction: 248°\n",
            "Humidity: 76%\n",
            "Temperature: \n",
            "  - Current: 28.97°C\n",
            "  - High: 28.97°C\n",
            "  - Low: 28.97°C\n",
            "  - Feels like: 33.82°C\n",
            "Rain: {}\n",
            "Heat index: None\n",
            "Cloud cover: 100%\u001b[0m\u001b[32;1m\u001b[1;3mI now know the temperature of the city where 'lotus tower' is located.\n",
            "Final Answer: The temperature in Colombo, Sri Lanka, where the Lotus Tower is located, is 28.97°C.\u001b[0m\n",
            "\n",
            "\u001b[1m> Finished chain.\u001b[0m\n",
            "The temperature in Colombo, Sri Lanka, where the Lotus Tower is located, is 28.97°C.\n"
          ]
        }
      ]
    },
    {
      "cell_type": "code",
      "source": [
        "response = agent_executor.invoke({\"input\": \"What is the temperature of Mandaramnuwara?\"})\n",
        "\n",
        "print(response[\"output\"])"
      ],
      "metadata": {
        "colab": {
          "base_uri": "https://localhost:8080/"
        },
        "id": "tK3glvj1kow5",
        "outputId": "a651e028-0a89-4ad8-a2a6-e852a9f3b99e"
      },
      "execution_count": null,
      "outputs": [
        {
          "output_type": "stream",
          "name": "stdout",
          "text": [
            "\n",
            "\n",
            "\u001b[1m> Entering new AgentExecutor chain...\u001b[0m\n",
            "\u001b[32;1m\u001b[1;3mI should use the open_weather_map tool to find the current temperature in Mandaramnuwara.\n",
            "Action: open_weather_map\n",
            "Action Input: Mandaramnuwara\u001b[0m\u001b[33;1m\u001b[1;3mIn Mandaramnuwara, the current weather is as follows:\n",
            "Detailed status: overcast clouds\n",
            "Wind speed: 2.73 m/s, direction: 304°\n",
            "Humidity: 54%\n",
            "Temperature: \n",
            "  - Current: 25.59°C\n",
            "  - High: 25.59°C\n",
            "  - Low: 25.59°C\n",
            "  - Feels like: 25.61°C\n",
            "Rain: {}\n",
            "Heat index: None\n",
            "Cloud cover: 100%\u001b[0m\u001b[32;1m\u001b[1;3mThe current temperature in Mandaramnuwara is 25.59°C.\n",
            "Final Answer: The temperature of Mandaramnuwara is 25.59°C.\u001b[0m\n",
            "\n",
            "\u001b[1m> Finished chain.\u001b[0m\n",
            "The temperature of Mandaramnuwara is 25.59°C.\n"
          ]
        }
      ]
    }
  ]
}